{
 "cells": [
  {
   "cell_type": "code",
   "execution_count": null,
   "metadata": {
    "collapsed": true
   },
   "outputs": [],
   "source": [
    "%reset\n",
    "import numpy as np\n",
    "from scipy.io import wavfile\n",
    "# Read in a wav file from working directory\n",
    "(Fs, speech) = wavfile.read(\"HQ-speech44100-mono.wav\")\n",
    "# Display sampling frequency (Hz) as read from the wav file:\n",
    "print \"Fs = \", Fs\n",
    "SM=max(abs(speech)) # Get maximum amplitude\n",
    "speech = speech/float(SM) # Scale maximum to 1 (note the float)\n",
    "# Plot graph of the whole speech with 16 bits per sample:\n",
    "from matplotlib import pyplot as plt\n",
    "% matplotlib inline\n",
    "fig,axs=plt.subplots(1)\n",
    "axs.plot(speech)\n",
    "# Plot 2000 samples of the speech with 16 bits per sample:\n",
    "fig,axs=plt.subplots(1)\n",
    "axs.plot(speech[20000:22000])\n",
    "# Qspeech = np.round(speech * (2**4 -1)) #Quantise to +/-15 as float\n",
    "Qspeech = np.round(speech * (2**4 -0.5) – 0.5) #Quantise to -16 to +15 as float\n",
    "Qspeech = np.int16(Qspeech)\n",
    "# Plot 2000 samples of quantised speech: int16 using 5 bits per sample:\n",
    "fig,axs=plt.subplots(1)\n",
    "axs.plot(Qspeech[20000:22000])\n",
    "# Increase amplitude of quantised speech to approx 32000 & plot it all:\n",
    "# scaledQs=Qspeech*(2**11)\n",
    "scaledQs=(Qspeech+0.5)*(2**11)\n",
    "fig,axs=plt.subplots(1)\n",
    "axs.plot(scaledQs)\n",
    "# Plot 2000 samples of the scaled-up quantised speech:\n",
    "fig,axs=plt.subplots(1)\n",
    "axs.plot(scaledQs[20000:22000])\n",
    "# Now write the 5-bit quantised speech to a wav file:\n",
    "wavfile.write(\"quantisedSpeech5.wav\",Fs,scaledQs)\n",
    "# Listen to the quantised speech (from array):\n",
    "from comp28512_utils import Audio\n",
    "Audio(scaledQs,rate=Fs)\n",
    "# Alternatively, listen to quantised speech as stored in wav file:\n",
    "from comp28512_utils import audio_from_file\n",
    "audio_from_file(\"quantisedSpeech5.wav\")"
   ]
  }
 ],
 "metadata": {
  "kernelspec": {
   "display_name": "Python 2",
   "language": "python",
   "name": "python2"
  },
  "language_info": {
   "codemirror_mode": {
    "name": "ipython",
    "version": 2
   },
   "file_extension": ".py",
   "mimetype": "text/x-python",
   "name": "python",
   "nbconvert_exporter": "python",
   "pygments_lexer": "ipython2",
   "version": "2.7.13"
  }
 },
 "nbformat": 4,
 "nbformat_minor": 2
}
